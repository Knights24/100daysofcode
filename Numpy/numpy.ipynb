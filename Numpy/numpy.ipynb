{
 "cells": [
  {
   "cell_type": "markdown",
   "id": "85362e02",
   "metadata": {},
   "source": [
    "#numpy array and basic"
   ]
  },
  {
   "cell_type": "code",
   "id": "6fa7ebe8",
   "metadata": {
    "ExecuteTime": {
     "end_time": "2025-10-28T21:04:30.609219Z",
     "start_time": "2025-10-28T21:04:30.563625Z"
    }
   },
   "source": [
    "import numpy as np"
   ],
   "outputs": [],
   "execution_count": 3
  },
  {
   "cell_type": "markdown",
   "id": "c4585dcc",
   "metadata": {},
   "source": [
    "# create array in numpy not list"
   ]
  },
  {
   "cell_type": "code",
   "id": "c03df824",
   "metadata": {
    "ExecuteTime": {
     "end_time": "2025-10-28T21:04:32.791172Z",
     "start_time": "2025-10-28T21:04:32.788043Z"
    }
   },
   "source": [
    "arr_1d = np.array([1, 2, 3, 4, 5, 6])\n",
    "print(\"1d: \", arr_1d)\n",
    "\n",
    "arr_2d = np.array([[1, 2, 3], [4, 5, 6]])\n",
    "print(\"2d : \",arr_2d)"
   ],
   "outputs": [
    {
     "name": "stdout",
     "output_type": "stream",
     "text": [
      "1d:  [1 2 3 4 5 6]\n",
      "2d :  [[1 2 3]\n",
      " [4 5 6]]\n"
     ]
    }
   ],
   "execution_count": 4
  },
  {
   "cell_type": "markdown",
   "id": "300c430f",
   "metadata": {},
   "source": [
    "##List vs arry "
   ]
  },
  {
   "cell_type": "code",
   "id": "6374e98e",
   "metadata": {
    "ExecuteTime": {
     "end_time": "2025-10-28T21:04:40.687558Z",
     "start_time": "2025-10-28T21:04:40.683515Z"
    }
   },
   "source": [
    "\n",
    "py_list = [1, 2, 3]\n",
    "print(\"Multiplication in List : \",py_list*2)\n",
    "\n",
    "array = np.array([1, 2, 3])\n",
    "print(\"Mulitplication in array : \" , array * 2)"
   ],
   "outputs": [
    {
     "name": "stdout",
     "output_type": "stream",
     "text": [
      "Multiplication in List :  [1, 2, 3, 1, 2, 3]\n",
      "Mulitplication in array :  [2 4 6]\n"
     ]
    }
   ],
   "execution_count": 5
  },
  {
   "cell_type": "markdown",
   "id": "68a01d96",
   "metadata": {},
   "source": [
    "#ones and zeros array\n"
   ]
  },
  {
   "cell_type": "code",
   "id": "2e7e8527",
   "metadata": {
    "ExecuteTime": {
     "end_time": "2025-10-28T21:04:52.583690Z",
     "start_time": "2025-10-28T21:04:52.580571Z"
    }
   },
   "source": [
    "zeros = np.zeros((4,3))\n",
    "\n",
    "ones = np.ones((4, 5))\n",
    "\n",
    "print(\"Zeros : \", zeros)\n",
    "print(\"Ones : \",ones)"
   ],
   "outputs": [
    {
     "name": "stdout",
     "output_type": "stream",
     "text": [
      "Zeros :  [[0. 0. 0.]\n",
      " [0. 0. 0.]\n",
      " [0. 0. 0.]\n",
      " [0. 0. 0.]]\n",
      "Ones :  [[1. 1. 1. 1. 1.]\n",
      " [1. 1. 1. 1. 1.]\n",
      " [1. 1. 1. 1. 1.]\n",
      " [1. 1. 1. 1. 1.]]\n"
     ]
    }
   ],
   "execution_count": 6
  },
  {
   "cell_type": "markdown",
   "id": "825ce480",
   "metadata": {},
   "source": [
    "#constant array "
   ]
  },
  {
   "cell_type": "code",
   "id": "8eedc29d",
   "metadata": {
    "ExecuteTime": {
     "end_time": "2025-10-28T21:04:55.889370Z",
     "start_time": "2025-10-28T21:04:55.887041Z"
    }
   },
   "source": [
    "full = np.full((2,2),5)\n",
    "print(full)"
   ],
   "outputs": [
    {
     "name": "stdout",
     "output_type": "stream",
     "text": [
      "[[5 5]\n",
      " [5 5]]\n"
     ]
    }
   ],
   "execution_count": 7
  },
  {
   "cell_type": "markdown",
   "id": "cc863abf",
   "metadata": {},
   "source": [
    "#random and sqence array"
   ]
  },
  {
   "cell_type": "code",
   "id": "d700c035",
   "metadata": {
    "ExecuteTime": {
     "end_time": "2025-10-28T21:04:59.198480Z",
     "start_time": "2025-10-28T21:04:59.187507Z"
    }
   },
   "source": [
    "random = np.random.random((2, 3))\n",
    "print(random)\n",
    "\n",
    "sequence = np.arange(2,12,2) #first 2 is range 3one is gap between both numbers\n",
    "print(sequence)"
   ],
   "outputs": [
    {
     "name": "stdout",
     "output_type": "stream",
     "text": [
      "[[0.11484758 0.8035609  0.76930536]\n",
      " [0.055532   0.89707374 0.57935025]]\n",
      "[ 2  4  6  8 10]\n"
     ]
    }
   ],
   "execution_count": 8
  },
  {
   "cell_type": "markdown",
   "id": "e7370eac",
   "metadata": {},
   "source": [
    "# Vector Matrix Tensor"
   ]
  },
  {
   "cell_type": "code",
   "id": "57a88bd8",
   "metadata": {
    "ExecuteTime": {
     "end_time": "2025-10-28T21:05:03.098679Z",
     "start_time": "2025-10-28T21:05:03.095623Z"
    }
   },
   "source": [
    "\n",
    "vector = np.array([1, 2, 3])\n",
    "Matrix = np.array([[1,2,3],[4, 5, 6],[7, 8, 9]])\n",
    "Tensor = np.array([[[1,2],[4,5]],[[6,7],[8,9]]])\n",
    "\n",
    "print(vector)\n",
    "print(Matrix)\n",
    "print(Tensor.dtype) #type\n",
    "print(Tensor.size) # how much elemts \n",
    "print(Tensor.ndim) #3d array\n"
   ],
   "outputs": [
    {
     "name": "stdout",
     "output_type": "stream",
     "text": [
      "[1 2 3]\n",
      "[[1 2 3]\n",
      " [4 5 6]\n",
      " [7 8 9]]\n",
      "int64\n",
      "8\n",
      "3\n"
     ]
    }
   ],
   "execution_count": 9
  },
  {
   "cell_type": "markdown",
   "id": "f67f77a8",
   "metadata": {},
   "source": [
    "reshape array\n"
   ]
  },
  {
   "cell_type": "code",
   "execution_count": null,
   "id": "510a9cc7",
   "metadata": {},
   "outputs": [],
   "source": [
    "arr = np.arange(9)\n",
    "print(\"\\n Defult array : \",arr)\n",
    "\n",
    "reshaped = arr.reshape((3,3))\n",
    "print(\"\\n Reshaped 3X3 : \",reshaped )\n",
    "\n",
    "flat = reshaped.flatten()\n",
    "print(\"\\n Flatter : \", flat)  #this copy the original and convert into flat in other SIde Ravel() flat original array\n",
    "\n",
    "Transposed = reshaped.T #this convert 3X4 into 4X3 something like a'\n",
    "print(Transposed)\n"
   ]
  }
 ],
 "metadata": {
  "kernelspec": {
   "display_name": "venv (3.13.5)",
   "language": "python",
   "name": "python3"
  },
  "language_info": {
   "codemirror_mode": {
    "name": "ipython",
    "version": 3
   },
   "file_extension": ".py",
   "mimetype": "text/x-python",
   "name": "python",
   "nbconvert_exporter": "python",
   "pygments_lexer": "ipython3",
   "version": "3.13.5"
  }
 },
 "nbformat": 4,
 "nbformat_minor": 5
}
