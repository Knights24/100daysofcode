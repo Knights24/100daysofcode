{
 "cells": [
  {
   "cell_type": "markdown",
   "id": "85362e02",
   "metadata": {},
   "source": [
    "#numpy array and basic"
   ]
  },
  {
   "cell_type": "code",
   "execution_count": 3,
   "id": "6fa7ebe8",
   "metadata": {},
   "outputs": [],
   "source": [
    "import numpy as np"
   ]
  },
  {
   "cell_type": "markdown",
   "id": "c4585dcc",
   "metadata": {},
   "source": [
    "# create array in numpy not list"
   ]
  },
  {
   "cell_type": "code",
   "execution_count": 8,
   "id": "c03df824",
   "metadata": {},
   "outputs": [
    {
     "name": "stdout",
     "output_type": "stream",
     "text": [
      "1d:  [1 2 3 4 5 6]\n",
      "2d :  [[1 2 3]\n",
      " [4 5 6]]\n"
     ]
    }
   ],
   "source": [
    "arr_1d = np.array([1, 2, 3, 4, 5, 6])\n",
    "print(\"1d: \", arr_1d)\n",
    "\n",
    "arr_2d = np.array([[1, 2, 3], [4, 5, 6]])\n",
    "print(\"2d : \",arr_2d)"
   ]
  },
  {
   "cell_type": "markdown",
   "id": "300c430f",
   "metadata": {},
   "source": [
    "##List vs arry "
   ]
  },
  {
   "cell_type": "code",
   "execution_count": 7,
   "id": "6374e98e",
   "metadata": {},
   "outputs": [
    {
     "name": "stdout",
     "output_type": "stream",
     "text": [
      "Multiplication in List :  [1, 2, 3, 1, 2, 3]\n",
      "Mulitplication in array :  [2 4 6]\n"
     ]
    }
   ],
   "source": [
    "\n",
    "py_list = [1, 2, 3]\n",
    "print(\"Multiplication in List : \",py_list*2)\n",
    "\n",
    "array = np.array([1, 2, 3])\n",
    "print(\"Mulitplication in array : \" , array * 2)"
   ]
  },
  {
   "cell_type": "markdown",
   "id": "68a01d96",
   "metadata": {},
   "source": [
    "#ones and zeros array\n"
   ]
  },
  {
   "cell_type": "code",
   "execution_count": 10,
   "id": "2e7e8527",
   "metadata": {},
   "outputs": [
    {
     "name": "stdout",
     "output_type": "stream",
     "text": [
      "Zeros :  [[0. 0. 0.]\n",
      " [0. 0. 0.]\n",
      " [0. 0. 0.]\n",
      " [0. 0. 0.]]\n",
      "Ones :  [[1. 1. 1. 1. 1.]\n",
      " [1. 1. 1. 1. 1.]\n",
      " [1. 1. 1. 1. 1.]\n",
      " [1. 1. 1. 1. 1.]]\n"
     ]
    }
   ],
   "source": [
    "zeros = np.zeros((4,3))\n",
    "\n",
    "ones = np.ones((4, 5))\n",
    "\n",
    "print(\"Zeros : \", zeros)\n",
    "print(\"Ones : \",ones)"
   ]
  },
  {
   "cell_type": "markdown",
   "id": "825ce480",
   "metadata": {},
   "source": [
    "#constant array "
   ]
  },
  {
   "cell_type": "code",
   "execution_count": 12,
   "id": "8eedc29d",
   "metadata": {},
   "outputs": [
    {
     "name": "stdout",
     "output_type": "stream",
     "text": [
      "[[5 5]\n",
      " [5 5]]\n"
     ]
    }
   ],
   "source": [
    "full = np.full((2,2),5)\n",
    "print(full)"
   ]
  },
  {
   "cell_type": "markdown",
   "id": "cc863abf",
   "metadata": {},
   "source": [
    "#random and sqence array"
   ]
  },
  {
   "cell_type": "code",
   "execution_count": 16,
   "id": "d700c035",
   "metadata": {},
   "outputs": [
    {
     "name": "stdout",
     "output_type": "stream",
     "text": [
      "[[0.92703429 0.84210927 0.69237435]\n",
      " [0.08052446 0.851796   0.67516218]]\n",
      "[ 2  4  6  8 10]\n"
     ]
    }
   ],
   "source": [
    "random = np.random.random((2, 3))\n",
    "print(random)\n",
    "\n",
    "sequence = np.arange(2,12,2) #first 2 is range 3one is gap between both numbers\n",
    "print(sequence)"
   ]
  },
  {
   "cell_type": "code",
   "execution_count": null,
   "id": "e7370eac",
   "metadata": {},
   "outputs": [],
   "source": []
  }
 ],
 "metadata": {
  "kernelspec": {
   "display_name": "venv (3.13.5)",
   "language": "python",
   "name": "python3"
  },
  "language_info": {
   "codemirror_mode": {
    "name": "ipython",
    "version": 3
   },
   "file_extension": ".py",
   "mimetype": "text/x-python",
   "name": "python",
   "nbconvert_exporter": "python",
   "pygments_lexer": "ipython3",
   "version": "3.13.5"
  }
 },
 "nbformat": 4,
 "nbformat_minor": 5
}
