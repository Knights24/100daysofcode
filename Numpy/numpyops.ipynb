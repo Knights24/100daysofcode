{
 "cells": [
  {
   "cell_type": "markdown",
   "id": "1b69ec39",
   "metadata": {},
   "source": [
    "# Numpy array OPS"
   ]
  },
  {
   "cell_type": "code",
   "execution_count": 3,
   "id": "2eba8712",
   "metadata": {},
   "outputs": [],
   "source": [
    "import numpy as np"
   ]
  },
  {
   "cell_type": "code",
   "execution_count": 5,
   "id": "b3d277cd",
   "metadata": {},
   "outputs": [
    {
     "name": "stdout",
     "output_type": "stream",
     "text": [
      "Basic slicing :  [3 4 5]\n",
      "Basic gap slicing :  [3 5 7]\n",
      "Basic :  [3 5 7]\n"
     ]
    }
   ],
   "source": [
    "arr  = np.array([1, 2, 3, 4, 5, 6, 7, 8])\n",
    "\n",
    "print(\"Basic slicing : \",arr[2:5])\n",
    "print(\"Basic gap slicing : \",arr[2:8:2])\n",
    "print(\"Basic : \",arr[2:8:2])\n",
    "\n",
    "\n"
   ]
  },
  {
   "cell_type": "code",
   "execution_count": 6,
   "id": "d33d8153",
   "metadata": {},
   "outputs": [
    {
     "name": "stdout",
     "output_type": "stream",
     "text": [
      "Sort [[1 1]\n",
      " [1 2]\n",
      " [2 4]\n",
      " [4 5]]\n"
     ]
    }
   ],
   "source": [
    "arr2d = np.array([[1,5], [4,4], [2,2],[1,1]])\n",
    "print(\"Sort\", np.sort(arr2d, axis= 0))"
   ]
  },
  {
   "cell_type": "markdown",
   "id": "09bcc74b",
   "metadata": {},
   "source": [
    "# Operations in array\n"
   ]
  },
  {
   "cell_type": "code",
   "execution_count": 7,
   "id": "fa1ab0ea",
   "metadata": {},
   "outputs": [
    {
     "name": "stdout",
     "output_type": "stream",
     "text": [
      "[2 4 6 8]\n"
     ]
    }
   ],
   "source": [
    "elements = arr[arr % 2 == 0]\n",
    "print(elements)"
   ]
  },
  {
   "cell_type": "code",
   "execution_count": 8,
   "id": "696b28b3",
   "metadata": {},
   "outputs": [
    {
     "name": "stdout",
     "output_type": "stream",
     "text": [
      "[ True  True False False]\n",
      "[2 4]\n"
     ]
    }
   ],
   "source": [
    "mask = elements < 5\n",
    "print(mask)\n",
    "\n",
    "print(elements[mask])\n"
   ]
  },
  {
   "cell_type": "code",
   "execution_count": 10,
   "id": "8d112eb4",
   "metadata": {},
   "outputs": [
    {
     "name": "stdout",
     "output_type": "stream",
     "text": [
      "[[[ 1  2  3  4]\n",
      "  [ 9  7  5  4]]\n",
      "\n",
      " [[22 44 65 76]\n",
      "  [32 54 67 87]]]\n"
     ]
    }
   ],
   "source": [
    "arr_3d = np.array([[[1, 2, 3, 4],[9, 7, 5, 4]],[[22, 54, 67, 87], [32, 44, 65, 76]]])\n",
    "\n",
    "print(np.sort(arr_3d, axis=1))"
   ]
  },
  {
   "cell_type": "markdown",
   "id": "457506ae",
   "metadata": {},
   "source": [
    "# advance ops"
   ]
  },
  {
   "cell_type": "code",
   "execution_count": null,
   "id": "311f1a24",
   "metadata": {},
   "outputs": [],
   "source": [
    "sales_data = np.array"
   ]
  }
 ],
 "metadata": {
  "kernelspec": {
   "display_name": "venv (3.13.5)",
   "language": "python",
   "name": "python3"
  },
  "language_info": {
   "codemirror_mode": {
    "name": "ipython",
    "version": 3
   },
   "file_extension": ".py",
   "mimetype": "text/x-python",
   "name": "python",
   "nbconvert_exporter": "python",
   "pygments_lexer": "ipython3",
   "version": "3.13.5"
  }
 },
 "nbformat": 4,
 "nbformat_minor": 5
}
